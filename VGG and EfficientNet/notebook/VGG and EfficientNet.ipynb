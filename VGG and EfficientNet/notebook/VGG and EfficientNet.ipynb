{
 "cells": [
  {
   "cell_type": "code",
   "execution_count": 1,
   "id": "d7b336fb",
   "metadata": {
    "id": "d7b336fb"
   },
   "outputs": [],
   "source": [
    "import numpy as np\n",
    "import pandas as pd\n",
    "import matplotlib.pyplot as plt\n",
    "import seaborn as sns\n",
    "from tensorflow import keras\n",
    "from sklearn.preprocessing import OneHotEncoder\n",
    "import os\n",
    "import cv2\n",
    "import random\n",
    "from keras_preprocessing import image\n",
    "from keras_preprocessing.image import ImageDataGenerator\n",
    "import splitfolders\n",
    "from sklearn import metrics\n",
    "from keras import layers\n",
    "from sklearn.metrics import accuracy_score, confusion_matrix, classification_report\n",
    "# import tensorflow as tf\n",
    "# tf.get_logger().setLevel('ERROR')\n",
    "# os.environ['CUDA_VISIBLE_DEVICES'] = '-1'"
   ]
  },
  {
   "cell_type": "code",
   "execution_count": 2,
   "id": "2bad8c7a",
   "metadata": {
    "colab": {
     "base_uri": "https://localhost:8080/"
    },
    "id": "2bad8c7a",
    "outputId": "ebe4ad20-6999-4213-c1db-5e9517ca7fde"
   },
   "outputs": [
    {
     "name": "stderr",
     "output_type": "stream",
     "text": [
      "Copying files: 1176 files [00:00, 1272.58 files/s]\n"
     ]
    }
   ],
   "source": [
    "splitfolders.ratio('../data/images', output='../data/split_data', ratio=(0.7, 0.15, 0.15))"
   ]
  },
  {
   "cell_type": "code",
   "execution_count": 3,
   "id": "b7ea0b6a",
   "metadata": {
    "id": "b7ea0b6a"
   },
   "outputs": [],
   "source": [
    "train_path = '../data/split_data/train'\n",
    "validation_path = '../data/split_data/val'\n",
    "test_path = '../data/split_data/test'"
   ]
  },
  {
   "cell_type": "code",
   "execution_count": 4,
   "id": "f129246a",
   "metadata": {
    "colab": {
     "base_uri": "https://localhost:8080/"
    },
    "id": "f129246a",
    "outputId": "53aed9d6-0dfb-4325-9d70-533423628dd1"
   },
   "outputs": [
    {
     "name": "stdout",
     "output_type": "stream",
     "text": [
      "Found 820 images belonging to 20 classes.\n",
      "Found 171 images belonging to 20 classes.\n",
      "Found 185 images belonging to 20 classes.\n"
     ]
    }
   ],
   "source": [
    "train_datagen = ImageDataGenerator(zoom_range=0.3, \n",
    "                                   horizontal_flip=True, \n",
    "                                   rotation_range=10, \n",
    "                                   width_shift_range=0.2, \n",
    "                                   height_shift_range=0.2, \n",
    "                                   brightness_range=[0.4, 1.5], \n",
    "                                   fill_mode='nearest')\n",
    "datagen = ImageDataGenerator()\n",
    "\n",
    "train_generator1 = train_datagen.flow_from_directory(train_path, class_mode='categorical', target_size=(224, 224), color_mode='rgb', batch_size=5, shuffle=True)\n",
    "validation_generator1 = datagen.flow_from_directory(validation_path, class_mode='categorical', target_size=(224, 224), color_mode='rgb', batch_size=5, shuffle=True)\n",
    "test_generator1 = datagen.flow_from_directory(test_path, class_mode='categorical', target_size=(224, 224), color_mode='rgb', batch_size=5, shuffle=True)"
   ]
  },
  {
   "cell_type": "markdown",
   "id": "6k7zPloA06-7",
   "metadata": {
    "id": "6k7zPloA06-7"
   },
   "source": [
    "### VGG16"
   ]
  },
  {
   "cell_type": "code",
   "execution_count": 5,
   "id": "73d040ba",
   "metadata": {
    "colab": {
     "base_uri": "https://localhost:8080/"
    },
    "id": "73d040ba",
    "outputId": "4c8b58a9-ef2b-4db7-f61b-b7f9335b6d02",
    "scrolled": false
   },
   "outputs": [
    {
     "name": "stdout",
     "output_type": "stream",
     "text": [
      "Model: \"sequential\"\n",
      "_________________________________________________________________\n",
      " Layer (type)                Output Shape              Param #   \n",
      "=================================================================\n",
      " vgg16 (Functional)          (None, 7, 7, 512)         14714688  \n",
      "                                                                 \n",
      " batch_normalization (BatchN  (None, 7, 7, 512)        2048      \n",
      " ormalization)                                                   \n",
      "                                                                 \n",
      " re_lu (ReLU)                (None, 7, 7, 512)         0         \n",
      "                                                                 \n",
      " global_max_pooling2d (Globa  (None, 512)              0         \n",
      " lMaxPooling2D)                                                  \n",
      "                                                                 \n",
      " dropout (Dropout)           (None, 512)               0         \n",
      "                                                                 \n",
      " dense (Dense)               (None, 20)                10260     \n",
      "                                                                 \n",
      " softmax (Softmax)           (None, 20)                0         \n",
      "                                                                 \n",
      "=================================================================\n",
      "Total params: 14,726,996\n",
      "Trainable params: 11,284\n",
      "Non-trainable params: 14,715,712\n",
      "_________________________________________________________________\n"
     ]
    }
   ],
   "source": [
    "vgg16 = keras.applications.VGG16(weights='imagenet', include_top=False, input_shape=(224,224,3), classes=20)\n",
    "vgg16.trainable = False\n",
    "\n",
    "model1 = keras.models.Sequential()\n",
    "model1.add(vgg16)\n",
    "model1.add(keras.layers.BatchNormalization())\n",
    "model1.add(keras.layers.ReLU())\n",
    "model1.add(keras.layers.GlobalMaxPooling2D())\n",
    "model1.add(keras.layers.Dropout(0.2))\n",
    "model1.add(keras.layers.Dense(20))\n",
    "model1.add(keras.layers.Softmax())\n",
    "\n",
    "model1.summary()"
   ]
  },
  {
   "cell_type": "code",
   "execution_count": 9,
   "id": "eee15a3e",
   "metadata": {
    "colab": {
     "base_uri": "https://localhost:8080/"
    },
    "id": "eee15a3e",
    "outputId": "7b85fcf1-9069-4c01-cefb-de61403ac456",
    "scrolled": false
   },
   "outputs": [
    {
     "name": "stdout",
     "output_type": "stream",
     "text": [
      "Epoch 1/100\n",
      "164/164 [==============================] - 27s 102ms/step - loss: 9.3270 - accuracy: 0.0805 - val_loss: 6.7828 - val_accuracy: 0.2105\n",
      "Epoch 2/100\n",
      "164/164 [==============================] - 16s 96ms/step - loss: 6.2801 - accuracy: 0.1988 - val_loss: 4.1171 - val_accuracy: 0.3684\n",
      "Epoch 3/100\n",
      "164/164 [==============================] - 16s 95ms/step - loss: 5.3750 - accuracy: 0.2817 - val_loss: 3.0898 - val_accuracy: 0.4912\n",
      "Epoch 4/100\n",
      "164/164 [==============================] - 16s 100ms/step - loss: 4.2052 - accuracy: 0.3634 - val_loss: 2.5415 - val_accuracy: 0.5263\n",
      "Epoch 5/100\n",
      "164/164 [==============================] - 15s 93ms/step - loss: 3.7831 - accuracy: 0.3659 - val_loss: 2.5745 - val_accuracy: 0.5088\n",
      "Epoch 6/100\n",
      "164/164 [==============================] - 15s 94ms/step - loss: 3.3331 - accuracy: 0.4439 - val_loss: 2.1151 - val_accuracy: 0.6199\n",
      "Epoch 7/100\n",
      "164/164 [==============================] - 17s 106ms/step - loss: 3.1444 - accuracy: 0.4695 - val_loss: 2.0829 - val_accuracy: 0.5614\n",
      "Epoch 8/100\n",
      "164/164 [==============================] - 15s 94ms/step - loss: 3.2970 - accuracy: 0.4646 - val_loss: 1.7861 - val_accuracy: 0.6374\n",
      "Epoch 9/100\n",
      "164/164 [==============================] - 15s 94ms/step - loss: 2.7155 - accuracy: 0.5195 - val_loss: 1.9809 - val_accuracy: 0.6023\n",
      "Epoch 10/100\n",
      "164/164 [==============================] - 15s 93ms/step - loss: 2.5815 - accuracy: 0.5256 - val_loss: 1.9231 - val_accuracy: 0.6082\n",
      "Epoch 11/100\n",
      "164/164 [==============================] - 15s 94ms/step - loss: 2.5134 - accuracy: 0.5341 - val_loss: 1.8247 - val_accuracy: 0.6550\n",
      "Epoch 12/100\n",
      "164/164 [==============================] - 17s 103ms/step - loss: 2.3440 - accuracy: 0.5439 - val_loss: 1.7587 - val_accuracy: 0.6316\n",
      "Epoch 13/100\n",
      "164/164 [==============================] - 15s 94ms/step - loss: 2.3562 - accuracy: 0.5549 - val_loss: 1.7195 - val_accuracy: 0.6725\n",
      "Epoch 14/100\n",
      "164/164 [==============================] - 15s 94ms/step - loss: 1.9697 - accuracy: 0.5866 - val_loss: 1.7357 - val_accuracy: 0.6901\n",
      "Epoch 15/100\n",
      "164/164 [==============================] - 15s 94ms/step - loss: 1.9225 - accuracy: 0.6183 - val_loss: 1.4724 - val_accuracy: 0.6725\n",
      "Epoch 16/100\n",
      "164/164 [==============================] - 15s 94ms/step - loss: 2.1591 - accuracy: 0.5756 - val_loss: 1.5051 - val_accuracy: 0.7018\n",
      "Epoch 17/100\n",
      "164/164 [==============================] - 15s 94ms/step - loss: 1.9902 - accuracy: 0.6134 - val_loss: 1.5877 - val_accuracy: 0.6959\n",
      "Epoch 18/100\n",
      "164/164 [==============================] - 15s 94ms/step - loss: 1.9999 - accuracy: 0.6134 - val_loss: 1.5264 - val_accuracy: 0.7076\n",
      "Epoch 19/100\n",
      "164/164 [==============================] - 15s 94ms/step - loss: 1.7295 - accuracy: 0.6220 - val_loss: 1.5415 - val_accuracy: 0.7076\n",
      "Epoch 20/100\n",
      "164/164 [==============================] - 15s 93ms/step - loss: 1.8015 - accuracy: 0.6024 - val_loss: 1.4832 - val_accuracy: 0.7018\n",
      "Epoch 21/100\n",
      "164/164 [==============================] - 15s 94ms/step - loss: 1.7565 - accuracy: 0.6293 - val_loss: 1.6229 - val_accuracy: 0.6784\n",
      "Epoch 22/100\n",
      "164/164 [==============================] - 15s 94ms/step - loss: 1.8218 - accuracy: 0.6146 - val_loss: 1.5872 - val_accuracy: 0.6725\n",
      "Epoch 23/100\n",
      "164/164 [==============================] - 16s 96ms/step - loss: 1.5542 - accuracy: 0.6610 - val_loss: 1.5068 - val_accuracy: 0.7310\n",
      "Epoch 24/100\n",
      "164/164 [==============================] - 15s 93ms/step - loss: 1.7337 - accuracy: 0.6122 - val_loss: 1.4203 - val_accuracy: 0.6901\n",
      "Epoch 25/100\n",
      "164/164 [==============================] - 15s 94ms/step - loss: 1.6885 - accuracy: 0.6427 - val_loss: 1.4203 - val_accuracy: 0.7018\n",
      "Epoch 26/100\n",
      "164/164 [==============================] - 15s 93ms/step - loss: 1.6034 - accuracy: 0.6537 - val_loss: 1.2210 - val_accuracy: 0.7368\n",
      "Epoch 27/100\n",
      "164/164 [==============================] - 16s 95ms/step - loss: 1.5793 - accuracy: 0.6378 - val_loss: 1.3859 - val_accuracy: 0.6842\n",
      "Epoch 28/100\n",
      "164/164 [==============================] - 16s 95ms/step - loss: 1.7044 - accuracy: 0.6293 - val_loss: 1.4588 - val_accuracy: 0.7076\n",
      "Epoch 29/100\n",
      "164/164 [==============================] - 15s 94ms/step - loss: 1.7011 - accuracy: 0.6585 - val_loss: 1.5017 - val_accuracy: 0.7018\n",
      "Epoch 30/100\n",
      "164/164 [==============================] - 16s 94ms/step - loss: 1.6693 - accuracy: 0.6305 - val_loss: 1.4849 - val_accuracy: 0.7485\n",
      "Epoch 31/100\n",
      "164/164 [==============================] - 15s 94ms/step - loss: 1.5713 - accuracy: 0.6549 - val_loss: 1.4302 - val_accuracy: 0.7076\n",
      "Epoch 32/100\n",
      "164/164 [==============================] - 15s 94ms/step - loss: 1.4884 - accuracy: 0.6646 - val_loss: 1.4263 - val_accuracy: 0.7251\n",
      "Epoch 33/100\n",
      "164/164 [==============================] - 16s 95ms/step - loss: 1.5295 - accuracy: 0.6780 - val_loss: 1.2962 - val_accuracy: 0.7193\n",
      "Epoch 34/100\n",
      "164/164 [==============================] - 17s 103ms/step - loss: 1.4996 - accuracy: 0.6805 - val_loss: 1.5221 - val_accuracy: 0.7018\n",
      "Epoch 35/100\n",
      "164/164 [==============================] - 15s 94ms/step - loss: 1.3289 - accuracy: 0.6927 - val_loss: 1.4302 - val_accuracy: 0.7251\n",
      "Epoch 36/100\n",
      "164/164 [==============================] - 16s 95ms/step - loss: 1.5004 - accuracy: 0.6598 - val_loss: 1.5262 - val_accuracy: 0.7135\n",
      "Epoch 37/100\n",
      "164/164 [==============================] - ETA: 0s - loss: 1.4903 - accuracy: 0.6720Restoring model weights from the end of the best epoch: 30.\n",
      "164/164 [==============================] - 16s 95ms/step - loss: 1.4903 - accuracy: 0.6720 - val_loss: 1.4206 - val_accuracy: 0.7310\n",
      "Epoch 37: early stopping\n"
     ]
    }
   ],
   "source": [
    "opt = keras.optimizers.Adam()\n",
    "early_stop = keras.callbacks.EarlyStopping(monitor='val_accuracy', mode='max', patience=7, verbose=1, restore_best_weights=True)\n",
    "model1.compile(optimizer=opt, loss='categorical_crossentropy', metrics=['accuracy'])\n",
    "\n",
    "model1_history = model1.fit(train_generator1,\n",
    "batch_size=5,\n",
    "epochs=100,\n",
    "validation_data = validation_generator1,\n",
    "callbacks  = [early_stop])\n",
    "\n",
    "model1.save_weights(\"vgg16.h5\")"
   ]
  },
  {
   "cell_type": "code",
   "execution_count": 10,
   "id": "3202af7c",
   "metadata": {
    "colab": {
     "base_uri": "https://localhost:8080/",
     "height": 281
    },
    "id": "3202af7c",
    "outputId": "ce13043d-0873-4288-9eb5-137492093017"
   },
   "outputs": [
    {
     "data": {
      "image/png": "[encoded data removed]",
      "text/plain": [
       "<Figure size 432x288 with 1 Axes>"
      ]
     },
     "metadata": {
      "needs_background": "light"
     },
     "output_type": "display_data"
    }
   ],
   "source": [
    "history_df = pd.DataFrame(model1_history.history)\n",
    "history_df.head()\n",
    "plt.title('VGG16 - Error')\n",
    "plt.plot((1-history_df['accuracy']), label = 'Training error')\n",
    "plt.plot((1-history_df['val_accuracy']), label = 'Validation error')\n",
    "plt.legend()\n",
    "plt.show()"
   ]
  },
  {
   "cell_type": "code",
   "execution_count": 11,
   "id": "21SY2qYbu_0V",
   "metadata": {
    "colab": {
     "base_uri": "https://localhost:8080/"
    },
    "id": "21SY2qYbu_0V",
    "outputId": "abd95e29-370d-483f-f4f0-ead1a3ff7738"
   },
   "outputs": [
    {
     "name": "stdout",
     "output_type": "stream",
     "text": [
      "164/164 [==============================] - 14s 87ms/step - loss: 0.5491 - accuracy: 0.8622\n",
      "Training Accuracy:  86.22 %\n",
      "35/35 [==============================] - 1s 33ms/step - loss: 1.4849 - accuracy: 0.7485\n",
      "Validation Accuracy:  74.85 %\n",
      "37/37 [==============================] - 1s 34ms/step - loss: 1.5400 - accuracy: 0.6757\n",
      "Test Accuracy:  67.57 %\n"
     ]
    }
   ],
   "source": [
    "train_loss, train_accuracy = model1.evaluate(x = train_generator1, verbose = 1)\n",
    "print('Training Accuracy: ', round((train_accuracy * 100), 2), \"%\")\n",
    "\n",
    "valid_loss, valid_accuracy = model1.evaluate(x = validation_generator1, verbose = 1)\n",
    "print('Validation Accuracy: ', round((valid_accuracy * 100), 2), \"%\")\n",
    "\n",
    "test_loss, test_accuracy = model1.evaluate(x = test_generator1, verbose = 1)\n",
    "print('Test Accuracy: ', round((test_accuracy * 100), 2), \"%\")"
   ]
  },
  {
   "cell_type": "markdown",
   "id": "wl76mu4_0RVT",
   "metadata": {
    "id": "wl76mu4_0RVT"
   },
   "source": [
    "### EfficientNetB0"
   ]
  },
  {
   "cell_type": "code",
   "execution_count": 6,
   "id": "4fcaaca3",
   "metadata": {
    "colab": {
     "base_uri": "https://localhost:8080/"
    },
    "id": "4fcaaca3",
    "outputId": "07cde7ca-0aa5-4ce3-d963-cf8964e730f3",
    "scrolled": false
   },
   "outputs": [
    {
     "name": "stdout",
     "output_type": "stream",
     "text": [
      "Model: \"sequential_1\"\n",
      "_________________________________________________________________\n",
      " Layer (type)                Output Shape              Param #   \n",
      "=================================================================\n",
      " efficientnetb0 (Functional)  (None, 7, 7, 1280)       4049571   \n",
      "                                                                 \n",
      " batch_normalization_1 (Batc  (None, 7, 7, 1280)       5120      \n",
      " hNormalization)                                                 \n",
      "                                                                 \n",
      " re_lu_1 (ReLU)              (None, 7, 7, 1280)        0         \n",
      "                                                                 \n",
      " global_max_pooling2d_1 (Glo  (None, 1280)             0         \n",
      " balMaxPooling2D)                                                \n",
      "                                                                 \n",
      " dropout_1 (Dropout)         (None, 1280)              0         \n",
      "                                                                 \n",
      " dense_1 (Dense)             (None, 20)                25620     \n",
      "                                                                 \n",
      " softmax_1 (Softmax)         (None, 20)                0         \n",
      "                                                                 \n",
      "=================================================================\n",
      "Total params: 4,080,311\n",
      "Trainable params: 28,180\n",
      "Non-trainable params: 4,052,131\n",
      "_________________________________________________________________\n"
     ]
    }
   ],
   "source": [
    "effnet = keras.applications.EfficientNetB0(weights='imagenet', include_top=False, input_shape=(224, 224, 3), classes=20)\n",
    "effnet.trainable = False\n",
    "\n",
    "model2 = keras.models.Sequential()\n",
    "model2.add(effnet)\n",
    "model2.add(keras.layers.BatchNormalization())\n",
    "model2.add(keras.layers.ReLU())\n",
    "model2.add(keras.layers.GlobalMaxPooling2D())\n",
    "model2.add(keras.layers.Dropout(0.2))\n",
    "model2.add(keras.layers.Dense(20))\n",
    "model2.add(keras.layers.Softmax())\n",
    "\n",
    "model2.summary()"
   ]
  },
  {
   "cell_type": "code",
   "execution_count": 13,
   "id": "3b791d42",
   "metadata": {
    "colab": {
     "base_uri": "https://localhost:8080/"
    },
    "id": "3b791d42",
    "outputId": "fa747705-da4f-4ce3-b7a4-f12f073a51c4"
   },
   "outputs": [
    {
     "name": "stdout",
     "output_type": "stream",
     "text": [
      "Epoch 1/100\n",
      "164/164 [==============================] - 22s 100ms/step - loss: 7.0279 - accuracy: 0.2829 - val_loss: 1.8523 - val_accuracy: 0.7018\n",
      "Epoch 2/100\n",
      "164/164 [==============================] - 15s 93ms/step - loss: 3.0915 - accuracy: 0.5927 - val_loss: 1.2555 - val_accuracy: 0.7661\n",
      "Epoch 3/100\n",
      "164/164 [==============================] - 15s 92ms/step - loss: 2.4774 - accuracy: 0.6732 - val_loss: 1.6074 - val_accuracy: 0.7661\n",
      "Epoch 4/100\n",
      "164/164 [==============================] - 15s 91ms/step - loss: 2.1837 - accuracy: 0.7195 - val_loss: 1.0600 - val_accuracy: 0.8363\n",
      "Epoch 5/100\n",
      "164/164 [==============================] - 15s 90ms/step - loss: 1.8458 - accuracy: 0.7415 - val_loss: 0.9805 - val_accuracy: 0.8421\n",
      "Epoch 6/100\n",
      "164/164 [==============================] - 15s 90ms/step - loss: 1.6169 - accuracy: 0.7683 - val_loss: 1.0237 - val_accuracy: 0.8713\n",
      "Epoch 7/100\n",
      "164/164 [==============================] - 15s 90ms/step - loss: 1.6403 - accuracy: 0.7707 - val_loss: 0.5809 - val_accuracy: 0.8830\n",
      "Epoch 8/100\n",
      "164/164 [==============================] - 15s 90ms/step - loss: 1.5833 - accuracy: 0.7744 - val_loss: 0.9656 - val_accuracy: 0.8889\n",
      "Epoch 9/100\n",
      "164/164 [==============================] - 15s 91ms/step - loss: 1.4249 - accuracy: 0.8037 - val_loss: 0.9881 - val_accuracy: 0.8655\n",
      "Epoch 10/100\n",
      "164/164 [==============================] - 15s 90ms/step - loss: 1.1915 - accuracy: 0.8146 - val_loss: 1.7482 - val_accuracy: 0.8421\n",
      "Epoch 11/100\n",
      "164/164 [==============================] - 15s 91ms/step - loss: 1.3205 - accuracy: 0.8159 - val_loss: 1.2067 - val_accuracy: 0.8304\n",
      "Epoch 12/100\n",
      "164/164 [==============================] - 15s 90ms/step - loss: 1.4438 - accuracy: 0.8220 - val_loss: 1.2506 - val_accuracy: 0.8538\n",
      "Epoch 13/100\n",
      "164/164 [==============================] - 15s 90ms/step - loss: 1.2928 - accuracy: 0.8244 - val_loss: 1.0224 - val_accuracy: 0.8830\n",
      "Epoch 14/100\n",
      "164/164 [==============================] - 15s 91ms/step - loss: 1.1911 - accuracy: 0.8354 - val_loss: 1.0326 - val_accuracy: 0.8538\n",
      "Epoch 15/100\n",
      "164/164 [==============================] - 15s 91ms/step - loss: 1.3439 - accuracy: 0.8268 - val_loss: 1.7155 - val_accuracy: 0.8421\n",
      "Epoch 16/100\n",
      "164/164 [==============================] - 15s 91ms/step - loss: 1.2038 - accuracy: 0.8549 - val_loss: 0.8392 - val_accuracy: 0.8655\n",
      "Epoch 17/100\n",
      "164/164 [==============================] - 15s 90ms/step - loss: 1.3416 - accuracy: 0.8317 - val_loss: 1.0567 - val_accuracy: 0.8655\n",
      "Epoch 18/100\n",
      "164/164 [==============================] - ETA: 0s - loss: 1.0826 - accuracy: 0.8744Restoring model weights from the end of the best epoch: 8.\n",
      "164/164 [==============================] - 16s 98ms/step - loss: 1.0826 - accuracy: 0.8744 - val_loss: 0.7829 - val_accuracy: 0.8889\n",
      "Epoch 18: early stopping\n"
     ]
    }
   ],
   "source": [
    "opt = keras.optimizers.Adam()\n",
    "early_stop = keras.callbacks.EarlyStopping(monitor='val_accuracy', mode='max', patience=10, verbose=1, restore_best_weights=True)\n",
    "model2.compile(optimizer=opt, loss='categorical_crossentropy', metrics=['accuracy'])\n",
    "\n",
    "model2_history = model2.fit(train_generator1,\n",
    "batch_size=5,\n",
    "epochs=100,\n",
    "validation_data = validation_generator1,\n",
    "callbacks  = [early_stop])\n",
    "\n",
    "model2.save_weights(\"efficientNetB0.h5\")"
   ]
  },
  {
   "cell_type": "code",
   "execution_count": 14,
   "id": "d089aeee",
   "metadata": {
    "colab": {
     "base_uri": "https://localhost:8080/",
     "height": 281
    },
    "id": "d089aeee",
    "outputId": "71629b83-6d35-4729-f1c7-e75ee643eca9"
   },
   "outputs": [
    {
     "data": {
      "image/png": "[encoded data removed]",
      "text/plain": [
       "<Figure size 432x288 with 1 Axes>"
      ]
     },
     "metadata": {
      "needs_background": "light"
     },
     "output_type": "display_data"
    }
   ],
   "source": [
    "history_df = pd.DataFrame(model2_history.history)\n",
    "history_df.head()\n",
    "plt.title('EfficientNetB0 - Error')\n",
    "plt.plot((1-history_df['accuracy']), label = 'Training error')\n",
    "plt.plot((1-history_df['val_accuracy']), label = 'Validation error')\n",
    "plt.legend()\n",
    "plt.show()"
   ]
  },
  {
   "cell_type": "code",
   "execution_count": 15,
   "id": "4531fc87",
   "metadata": {
    "colab": {
     "base_uri": "https://localhost:8080/"
    },
    "id": "4531fc87",
    "outputId": "e41f8753-2656-4c04-8edc-1cdb7fc3bd5c"
   },
   "outputs": [
    {
     "name": "stdout",
     "output_type": "stream",
     "text": [
      "164/164 [==============================] - 14s 86ms/step - loss: 0.5375 - accuracy: 0.9183\n",
      "Training Accuracy:  91.83 %\n",
      "35/35 [==============================] - 1s 29ms/step - loss: 0.9656 - accuracy: 0.8889\n",
      "Validation Accuracy:  88.89 %\n",
      "37/37 [==============================] - 1s 28ms/step - loss: 0.9466 - accuracy: 0.8595\n",
      "Test Accuracy:  85.95 %\n"
     ]
    }
   ],
   "source": [
    "train_loss, train_accuracy = model2.evaluate(x = train_generator1, verbose = 1)\n",
    "print('Training Accuracy: ', round((train_accuracy * 100), 2), \"%\")\n",
    "\n",
    "valid_loss, valid_accuracy = model2.evaluate(x = validation_generator1, verbose = 1)\n",
    "print('Validation Accuracy: ', round((valid_accuracy * 100), 2), \"%\")\n",
    "\n",
    "test_loss, test_accuracy = model2.evaluate(x = test_generator1, verbose = 1)\n",
    "print('Test Accuracy: ', round((test_accuracy * 100), 2), \"%\")"
   ]
  },
  {
   "cell_type": "markdown",
   "id": "DMKR-pXB0k9-",
   "metadata": {
    "id": "DMKR-pXB0k9-"
   },
   "source": [
    "### Precision, Recall, and F1 score"
   ]
  },
  {
   "cell_type": "markdown",
   "id": "oPbVnm990w9B",
   "metadata": {
    "id": "oPbVnm990w9B"
   },
   "source": [
    "### VGG16"
   ]
  },
  {
   "cell_type": "code",
   "execution_count": 16,
   "id": "MbDUHUzC0iv2",
   "metadata": {
    "colab": {
     "base_uri": "https://localhost:8080/"
    },
    "id": "MbDUHUzC0iv2",
    "outputId": "79fdcc7b-aaf7-45e7-92e8-debfbb7f0ca1"
   },
   "outputs": [
    {
     "name": "stdout",
     "output_type": "stream",
     "text": [
      "1/1 [==============================] - 27s 27s/step\n",
      "                   precision    recall  f1-score   support\n",
      "\n",
      " Category/Class 0       0.60      0.75      0.67         8\n",
      " Category/Class 1       1.00      0.78      0.88         9\n",
      " Category/Class 2       0.80      0.80      0.80        10\n",
      " Category/Class 3       0.89      0.80      0.84        10\n",
      " Category/Class 4       0.75      0.33      0.46         9\n",
      " Category/Class 5       0.70      0.78      0.74         9\n",
      " Category/Class 6       0.67      0.89      0.76         9\n",
      " Category/Class 7       0.53      0.89      0.67         9\n",
      " Category/Class 8       0.60      0.67      0.63         9\n",
      " Category/Class 9       1.00      0.89      0.94         9\n",
      "Category/Class 10       0.83      0.56      0.67         9\n",
      "Category/Class 11       1.00      0.78      0.88         9\n",
      "Category/Class 12       0.86      0.67      0.75         9\n",
      "Category/Class 13       0.50      0.33      0.40         9\n",
      "Category/Class 14       0.39      0.78      0.52         9\n",
      "Category/Class 15       0.57      0.40      0.47        10\n",
      "Category/Class 16       0.77      1.00      0.87        10\n",
      "Category/Class 17       0.83      0.50      0.62        10\n",
      "Category/Class 18       0.36      0.56      0.43         9\n",
      "Category/Class 19       0.67      0.40      0.50        10\n",
      "\n",
      "         accuracy                           0.68       185\n",
      "        macro avg       0.72      0.68      0.67       185\n",
      "     weighted avg       0.72      0.68      0.68       185\n",
      "\n"
     ]
    }
   ],
   "source": [
    "test_generator1.batch_size  = test_generator1.samples\n",
    "test_dataset = next(test_generator1)\n",
    "test = (np.argmax(test_dataset[1], axis=1))\n",
    "predictions = model1.predict(test_generator1)\n",
    "predictions = np.argmax(predictions, axis = 1)\n",
    "\n",
    "target = [\"Category/Class {}\".format(i) for i in range(20)]\n",
    "print(classification_report(np.argmax(test_dataset[1], axis=1), predictions, target_names=target))"
   ]
  },
  {
   "cell_type": "markdown",
   "id": "--HZeNXh0zbm",
   "metadata": {
    "id": "--HZeNXh0zbm"
   },
   "source": [
    "### EfficientNetB0"
   ]
  },
  {
   "cell_type": "code",
   "execution_count": 17,
   "id": "6375bfc6",
   "metadata": {
    "colab": {
     "base_uri": "https://localhost:8080/"
    },
    "id": "6375bfc6",
    "outputId": "fbc68b61-f1f2-4812-ef64-bb0bcabc21d6"
   },
   "outputs": [
    {
     "name": "stdout",
     "output_type": "stream",
     "text": [
      "1/1 [==============================] - 4s 4s/step\n",
      "              precision    recall  f1-score   support\n",
      "\n",
      "  Category 0       1.00      0.88      0.93         8\n",
      "  Category 1       1.00      1.00      1.00         9\n",
      "  Category 2       0.91      1.00      0.95        10\n",
      "  Category 3       0.88      0.70      0.78        10\n",
      "  Category 4       1.00      0.56      0.71         9\n",
      "  Category 5       0.73      0.89      0.80         9\n",
      "  Category 6       1.00      1.00      1.00         9\n",
      "  Category 7       0.56      1.00      0.72         9\n",
      "  Category 8       0.82      1.00      0.90         9\n",
      "  Category 9       1.00      0.89      0.94         9\n",
      " Category 10       1.00      1.00      1.00         9\n",
      " Category 11       1.00      0.89      0.94         9\n",
      " Category 12       0.89      0.89      0.89         9\n",
      " Category 13       0.78      0.78      0.78         9\n",
      " Category 14       0.64      1.00      0.78         9\n",
      " Category 15       1.00      0.40      0.57        10\n",
      " Category 16       0.91      1.00      0.95        10\n",
      " Category 17       1.00      0.70      0.82        10\n",
      " Category 18       0.78      0.78      0.78         9\n",
      " Category 19       0.90      0.90      0.90        10\n",
      "\n",
      "    accuracy                           0.86       185\n",
      "   macro avg       0.89      0.86      0.86       185\n",
      "weighted avg       0.89      0.86      0.86       185\n",
      "\n"
     ]
    }
   ],
   "source": [
    "test_generator1.batch_size  = test_generator1.samples\n",
    "test_dataset = next(test_generator1)\n",
    "test = (np.argmax(test_dataset[1], axis=1))\n",
    "predictions = model2.predict(test_generator1)\n",
    "predictions = np.argmax(predictions, axis = 1)\n",
    "\n",
    "target = [\"Category {}\".format(i) for i in range(20)]\n",
    "print(classification_report(np.argmax(test_dataset[1], axis=1), predictions, target_names=target))"
   ]
  },
  {
   "cell_type": "code",
   "execution_count": 17,
   "id": "UgTIx9Nqqv39",
   "metadata": {
    "id": "UgTIx9Nqqv39"
   },
   "outputs": [],
   "source": []
  }
 ],
 "metadata": {
  "accelerator": "GPU",
  "colab": {
   "provenance": []
  },
  "gpuClass": "standard",
  "kernelspec": {
   "display_name": "Python 3 (ipykernel)",
   "language": "python",
   "name": "python3"
  },
  "language_info": {
   "codemirror_mode": {
    "name": "ipython",
    "version": 3
   },
   "file_extension": ".py",
   "mimetype": "text/x-python",
   "name": "python",
   "nbconvert_exporter": "python",
   "pygments_lexer": "ipython3",
   "version": "3.9.12"
  }
 },
 "nbformat": 4,
 "nbformat_minor": 5
}
